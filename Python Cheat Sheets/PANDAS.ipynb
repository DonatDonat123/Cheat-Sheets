{
 "cells": [
  {
   "cell_type": "code",
   "execution_count": null,
   "metadata": {},
   "outputs": [],
   "source": [
    "# Plot different classes\n",
    "ax = df.plot.scatter(x='a', y='b', color='DarkBlue', label='Group 1');\n",
    "\n",
    "df.plot.scatter(x='c', y='d', color='DarkGreen', label='Group 2', ax=ax);\n"
   ]
  },
  {
   "cell_type": "code",
   "execution_count": null,
   "metadata": {},
   "outputs": [],
   "source": [
    "# Group By\n",
    "data_osfs = data.groupby('osfs').mean()\n",
    "\n",
    "# Replace"
   ]
  },
  {
   "cell_type": "code",
   "execution_count": null,
   "metadata": {},
   "outputs": [],
   "source": [
    "# Replace\n",
    "# Create an example dataframe\n",
    "data = {'Commander': ['Jason', 'Molly', 'Tina', 'Jake', 'Amy'], \n",
    "        'Date': ['2012, 02, 08', '2012, 02, 08', '2012, 02, 08', '2012, 02, 08', '2012, 02, 08'], \n",
    "        'Score': [4, 24, 31, 2, 3]}\n",
    "df = pd.DataFrame(data, index = ['Cochice', 'Pima', 'Santa Cruz', 'Maricopa', 'Yuma'])\n",
    "df"
   ]
  },
  {
   "cell_type": "code",
   "execution_count": null,
   "metadata": {},
   "outputs": [],
   "source": [
    "df.columns = ['Leader', 'Time', 'Score']\n",
    "df.rename(columns={'Leader': 'Commander'}, inplace=True)\n",
    "df"
   ]
  },
  {
   "cell_type": "code",
   "execution_count": null,
   "metadata": {},
   "outputs": [],
   "source": [
    "import pandas as pd # data processing, CSV file I/O (e.g. pd.read_csv)\n",
    "import numpy as np\n",
    "from sklearn.metrics.pairwise import cosine_similarity\n",
    "from sklearn.metrics import roc_auc_score\n",
    "\n",
    "\n",
    "df = pd.DataFrame(data=np.array([[1, 2, 3], [4, 5, 6], [7, 8, 9]]), columns=['A', 'B', 'C'])\n",
    "print(df)\n",
    "\n",
    "# Using `iloc[]`\n",
    "print(df.iloc[0][0])\n",
    "\n",
    "# Using `loc[]`\n",
    "print(df.loc[0]['A'])\n",
    "\n",
    "# Using `at[]`\n",
    "print(df.at[0,'A'])\n",
    "\n",
    "# Using `iat[]`\n",
    "print(df.iat[0,0])\n",
    "\n",
    "# Using `get_value(index, column)`\n",
    "print(df.get_value(0, 'A'))\n",
    "\n",
    "#Using Slicing\n",
    "\n",
    "df.loc[:,['A', 'B']]\n",
    "\n",
    "df.loc[0:df.shape[0],['A']]\n",
    "\n",
    "# Iterrate over df\n",
    "\n",
    "df = pd.DataFrame(data=np.array([[1, 2, 3], [4, 5, 6], [7, 8, 9]]), columns=['A', 'B', 'C'])\n",
    "\n",
    "for hickup, row in df.iterrows() :\n",
    "    print(row['A'], row['B'])\n",
    "    \n",
    "# Adding a Column to df\n",
    "\n",
    "df.loc[:, 'D'] = pd.Series(['5', '6', '7'], index=df.index)\n",
    "\n",
    "# Print out `df` again to see the changes\n",
    "print(df)\n",
    "\n",
    "### Example how to create pd Data Frame from already existing python arrays or even funciton outputs and setting the index\n",
    "df_sub = pd.DataFrame({\n",
    "        'test_id': test_idxs,\n",
    "        'is_duplicate': bst.predict(dTest, ntree_limit=bst.best_ntree_limit)\n",
    "    }).set_index('test_id')"
   ]
  },
  {
   "cell_type": "code",
   "execution_count": null,
   "metadata": {},
   "outputs": [],
   "source": [
    "# Modify dataframe and glue it together again\n",
    "\n",
    "df = pd.DataFrame(data=np.array([[\"Hallo\", \"Tschau\"], [\"Maus\", \"Katz\"], [\"Herr\", \"Dame\"]]), columns=['question1', 'question2'])\n",
    "print df\n",
    "print type(df)\n",
    "question1 = df.question1.apply(lambda x: x.lower())\n",
    "question2 = df.question2.apply(lambda x: x.lower())\n",
    "df.loc[:, 'question1'] = pd.Series(question1, index=df.index)\n",
    "df.loc[:, 'question2'] = pd.Series(question1, index=df.index)\n",
    "print df\n",
    "\n"
   ]
  }
 ],
 "metadata": {
  "kernelspec": {
   "display_name": "Python 3",
   "language": "python",
   "name": "python3"
  },
  "language_info": {
   "codemirror_mode": {
    "name": "ipython",
    "version": 3
   },
   "file_extension": ".py",
   "mimetype": "text/x-python",
   "name": "python",
   "nbconvert_exporter": "python",
   "pygments_lexer": "ipython3",
   "version": "3.5.5"
  }
 },
 "nbformat": 4,
 "nbformat_minor": 2
}
