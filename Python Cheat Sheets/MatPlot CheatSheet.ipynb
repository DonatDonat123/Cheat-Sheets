{
 "cells": [
  {
   "cell_type": "code",
   "execution_count": 1,
   "metadata": {},
   "outputs": [
    {
     "data": {
      "text/plain": [
       "<Figure size 1920x960 with 1 Axes>"
      ]
     },
     "metadata": {},
     "output_type": "display_data"
    }
   ],
   "source": [
    "import numpy as np\n",
    "import matplotlib.pyplot as plt\n",
    "import matplotlib.patches as patches\n",
    "from matplotlib.collections import PatchCollection\n",
    "\n",
    "X = np.linspace(0,10,10000)\n",
    "mysin = np.sin(X)\n",
    "mycos = np.cos(X)\n",
    "\n",
    "fig1 = plt.figure(1, figsize=(16,8), dpi=120)\n",
    "plt.subplot(221)\n",
    "plt.plot(X,mysin, label=['sin1'], markersize = 12, linewidth = 10)\n",
    "plt.plot(X,mycos, label='sin2')\n",
    "#lines = plt.plot(X,mycos)\n",
    "#plt.setp(lines, color='r', linewidth=2.0)\n",
    "plt.xlabel('XXX')\n",
    "plt.ylabel('YYY')\n",
    "plt.title('A CURVE')\n",
    "plt.legend()\n",
    "#plt.text(3, .05, r'$\\mu=100,\\ \\sigma=15$')\n",
    "plt.axis([0, 12, -1, 1.2])\n",
    "#plt.grid(True)\n",
    "plt.show()"
   ]
  },
  {
   "cell_type": "code",
   "execution_count": 3,
   "metadata": {},
   "outputs": [
    {
     "data": {
      "text/plain": [
       "[[1, 2, 3]]"
      ]
     },
     "execution_count": 3,
     "metadata": {},
     "output_type": "execute_result"
    }
   ],
   "source": [
    "# Interactive mode\n",
    "\n",
    "%matplotlib qt  # wx, gtk, osx, tk, empty uses default"
   ]
  },
  {
   "cell_type": "markdown",
   "metadata": {},
   "source": [
    "# Change Fontsize"
   ]
  },
  {
   "cell_type": "code",
   "execution_count": 2,
   "metadata": {},
   "outputs": [],
   "source": [
    "#plt.title(title, fontsize = fontsz)\n",
    "import matplotlib as mpl\n",
    "mpl.rcParams['font.size'] = 9.0"
   ]
  },
  {
   "cell_type": "code",
   "execution_count": 2,
   "metadata": {},
   "outputs": [
    {
     "data": {
      "image/png": "[encoded data removed]",
      "text/plain": [
       "<Figure size 432x288 with 1 Axes>"
      ]
     },
     "metadata": {},
     "output_type": "display_data"
    }
   ],
   "source": [
    "# BARPLOT\n",
    "\n",
    "f1scores = [0.5, 0.4, 0.3]\n",
    "f2scores = [0.3, 0.3, 0.3]\n",
    "mywidth = 0.3\n",
    "x = np.array(range(1,4))\n",
    "x2 = x+mywidth\n",
    "names = ['one', 'two', 'three']\n",
    "mybar = plt.bar(x, f1scores, tick_label=names, width=mywidth, label='huhu')\n",
    "mybar2 = plt.bar(x2, f2scores, width=0.3, label='recall')\n",
    "plt.legend()\n",
    "plt.show()"
   ]
  },
  {
   "cell_type": "code",
   "execution_count": null,
   "metadata": {
    "collapsed": true
   },
   "outputs": [],
   "source": [
    "# 3D \n",
    "\n",
    "import matplotlib.pyplot as plt\n",
    "from mpl_toolkits.mplot3d import Axes3D\n",
    "fig = plt.figure()\n",
    "ax = fig.add_subplot(111, projection='3d')"
   ]
  },
  {
   "cell_type": "code",
   "execution_count": 1,
   "metadata": {},
   "outputs": [
    {
     "data": {
      "image/png": "[encoded data removed]",
      "text/plain": [
       "<matplotlib.figure.Figure at 0x7fabed96dc10>"
      ]
     },
     "metadata": {},
     "output_type": "display_data"
    }
   ],
   "source": [
    "# Hello Rectangle --> More Rectangle Stuff see Problem 4 from Computer Vision Course\n",
    "\n",
    "import matplotlib.pyplot as plt\n",
    "import matplotlib.patches as patches\n",
    "\n",
    "fig1 = plt.figure()\n",
    "ax1 = fig1.add_subplot(111, aspect='equal')\n",
    "ax1.add_patch(\n",
    "    patches.Rectangle(\n",
    "        (0.1, 0.1),   # (x,y)\n",
    "        0.5,          # width\n",
    "        0.5,          # height\n",
    "    )\n",
    ")\n",
    "\n",
    "plt.show()"
   ]
  },
  {
   "cell_type": "markdown",
   "metadata": {},
   "source": [
    "# Fig, ax"
   ]
  },
  {
   "cell_type": "code",
   "execution_count": null,
   "metadata": {
    "collapsed": true
   },
   "outputs": [],
   "source": [
    "fig, [[ax1, ax2], [ax3, ax4]] = plt.subplots(nrows=2, ncols=2)\n"
   ]
  },
  {
   "cell_type": "markdown",
   "metadata": {},
   "source": [
    "# 3D Plots !"
   ]
  },
  {
   "cell_type": "code",
   "execution_count": null,
   "metadata": {},
   "outputs": [],
   "source": [
    "# Contours\n",
    "f1 = np.linspace(-1,1,100)\n",
    "f2 = np.linspace(-1,1,50)\n",
    "F1, F2 = np.meshgrid(f1,f2)\n",
    "\n",
    "def f2x(f1,f2):\n",
    "    return np.array([f1,f2,1,np.power(f1,2), np.power(f2,2),f1+f2])\n",
    "\n",
    "# Plot Decision Boundary\n",
    "s = F1.shape\n",
    "z = np.zeros(s)\n",
    "for i in range(s[0]):\n",
    "    for j in range(s[1]):\n",
    "        z[i,j] = sigmoid(np.dot(f2x(F1[i,j], F2[i,j]),w_opt))\n",
    "\n",
    "fig2 = plt.figure(2)\n",
    "ax2 = fig2.add_subplot(111)\n",
    "ax2.contour(F1, F2, z, 3)\n",
    "data.plot.scatter('f1', 'f2', c=data['y_color'], ax=ax2)"
   ]
  }
 ],
 "metadata": {
  "kernelspec": {
   "display_name": "Python 2",
   "language": "python",
   "name": "python2"
  },
  "language_info": {
   "codemirror_mode": {
    "name": "ipython",
    "version": 3
   },
   "file_extension": ".py",
   "mimetype": "text/x-python",
   "name": "python",
   "nbconvert_exporter": "python",
   "pygments_lexer": "ipython3",
   "version": "3.5.5"
  }
 },
 "nbformat": 4,
 "nbformat_minor": 2
}
