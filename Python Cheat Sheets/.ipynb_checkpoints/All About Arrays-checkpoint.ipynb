{
 "cells": [
  {
   "cell_type": "markdown",
   "metadata": {},
   "source": [
    "# All About Arrays"
   ]
  },
  {
   "cell_type": "code",
   "execution_count": 92,
   "metadata": {
    "collapsed": true
   },
   "outputs": [],
   "source": [
    "import numpy as np\n",
    "np.set_printoptions(threshold = 100)\n"
   ]
  },
  {
   "cell_type": "markdown",
   "metadata": {},
   "source": [
    "## Functions/Features of Array"
   ]
  },
  {
   "cell_type": "code",
   "execution_count": 1,
   "metadata": {
    "collapsed": true
   },
   "outputs": [],
   "source": [
    "x = [6,7,8,9,10,11,12]\n",
    "y = [3,7,11,15,19,23,27]"
   ]
  },
  {
   "cell_type": "code",
   "execution_count": 11,
   "metadata": {},
   "outputs": [
    {
     "data": {
      "text/plain": [
       "array([[ 6,  7,  8,  9, 10, 11, 12],\n",
       "       [ 3,  7, 11, 15, 19, 23, 27]])"
      ]
     },
     "execution_count": 11,
     "metadata": {},
     "output_type": "execute_result"
    }
   ],
   "source": [
    "arrx = np.array([x,y])\n",
    "#arrx = np.array([6,7,8,9,10,11,12])\n",
    "arrx"
   ]
  },
  {
   "cell_type": "code",
   "execution_count": 12,
   "metadata": {},
   "outputs": [
    {
     "name": "stdout",
     "output_type": "stream",
     "text": [
      "int64\n",
      "2\n",
      "(2, 7)\n",
      "14\n",
      "<built-in method argmax of numpy.ndarray object at 0x7f539cce2ee0>\n"
     ]
    }
   ],
   "source": [
    "print arrx.dtype\n",
    "print arrx.ndim\n",
    "print arrx.shape\n",
    "print arrx.size\n",
    "print arrx.argmax"
   ]
  },
  {
   "cell_type": "markdown",
   "metadata": {},
   "source": [
    "## Array Creation"
   ]
  },
  {
   "cell_type": "code",
   "execution_count": 40,
   "metadata": {
    "collapsed": true
   },
   "outputs": [],
   "source": [
    "arr0 = np.zeros((3,3),dtype=np.int32)\n",
    "arr1 = np.ones((5,2))\n",
    "arrrand = np.empty((2,2))\n",
    "arr1_10 = np.arange(1,11,1)\n",
    "arrsin = np.linspace(0,np.pi,100)\n",
    "y = np.sin(arrsin)"
   ]
  },
  {
   "cell_type": "code",
   "execution_count": 59,
   "metadata": {},
   "outputs": [
    {
     "data": {
      "text/plain": [
       "[<matplotlib.lines.Line2D at 0x7f5398f3a490>]"
      ]
     },
     "execution_count": 59,
     "metadata": {},
     "output_type": "execute_result"
    }
   ],
   "source": [
    "import matplotlib.pyplot as plt\n",
    "fig=plt.figure()\n",
    "plt.plot(y)\n",
    "#plt.show()"
   ]
  },
  {
   "cell_type": "code",
   "execution_count": 71,
   "metadata": {},
   "outputs": [
    {
     "name": "stdout",
     "output_type": "stream",
     "text": [
      "[[   0    1    2 ...,   97   98   99]\n",
      " [ 100  101  102 ...,  197  198  199]\n",
      " [ 200  201  202 ...,  297  298  299]\n",
      " ..., \n",
      " [9700 9701 9702 ..., 9797 9798 9799]\n",
      " [9800 9801 9802 ..., 9897 9898 9899]\n",
      " [9900 9901 9902 ..., 9997 9998 9999]]\n"
     ]
    }
   ],
   "source": [
    "# Print Arrays without ...\n",
    "bigarr = np.arange(0,10000,1).reshape(100,100)\n",
    "print bigarr\n",
    "#np.set_printoptions(threshold='nan')\n",
    "np.set_printoptions(threshold = default)\n",
    "#print bigarr"
   ]
  },
  {
   "cell_type": "markdown",
   "metadata": {},
   "source": [
    "## Array Operations\n",
    "#Work Elementwise, for Matrix Multiplication \".dot\"\n",
    "#Numpy Arrays are objects, so changing a value will change it in the array. If you want to copy then np.copy !\n",
    "#Slicing: [-1] UNTIL last element and [0:] to INCLUDE last element\n",
    "#The Matrix Print in 2 Dimensions is equivalent to the Matrix\n",
    "#Upcasting when combining arrays of different types\n",
    "#Slicing multi-dimensional matrices: [...,1] = [:,:,...,1]\n",
    "#flatten an array to iterate over all elements by array.flat"
   ]
  },
  {
   "cell_type": "code",
   "execution_count": 122,
   "metadata": {
    "collapsed": true
   },
   "outputs": [],
   "source": [
    "x = np.arange(6,13)\n",
    "y = np.arange(3,30,4)\n",
    "w = np.array([1,1,0,0.5,1,1.5,2,0,0])\n",
    "s = np.linspace(100,95.2,5)\n",
    "z = np.arange(0.7,3,0.3)"
   ]
  },
  {
   "cell_type": "code",
   "execution_count": 123,
   "metadata": {},
   "outputs": [
    {
     "name": "stdout",
     "output_type": "stream",
     "text": [
      "[21 28 35 42 49 56 63]\n",
      "1057\n",
      "[ 326.7  323.   319.2  315.4  311.6]\n",
      "[ 0.7  1.   1.3  1.6  1.9  2.2  2.5  2.8]\n",
      "[-0.3  0.   0.3  0.6  0.9  1.2  1.5  1.8]\n",
      "[6 7 8 4 4 4 4]\n"
     ]
    }
   ],
   "source": [
    "#operations\n",
    "v = 3*x + y\n",
    "print v\n",
    "print x.dot(y)\n",
    "t = np.pi*(s+4)\n",
    "print t\n",
    "print z\n",
    "z = z-1\n",
    "print z\n",
    "x[-1:len(x)-5:-1]= 4\n",
    "print x"
   ]
  },
  {
   "cell_type": "code",
   "execution_count": 141,
   "metadata": {
    "collapsed": true
   },
   "outputs": [],
   "source": [
    "#Transposing\n",
    "aa = np.array([[1,0],[1,1]])\n",
    "bb = np.array([[1,1],[0,1]])\n",
    "print aa\n",
    "print bb\n",
    "print bb.transpose()"
   ]
  },
  {
   "cell_type": "code",
   "execution_count": 147,
   "metadata": {},
   "outputs": [
    {
     "name": "stdout",
     "output_type": "stream",
     "text": [
      "[[ 0  1  2  3]\n",
      " [ 4  5  6  7]\n",
      " [ 8  9 10 11]\n",
      " [12 13 14 15]]\n",
      "[12 13 14 15]\n",
      "[ 3  7 11 15]\n",
      "[[ 0  1  3  6]\n",
      " [ 4  9 15 22]\n",
      " [ 8 17 27 38]\n",
      " [12 25 39 54]]\n"
     ]
    }
   ],
   "source": [
    "#ndarray implemented methods\n",
    "myarray = np.arange(0,16).reshape(4,4)\n",
    "print myarray\n",
    "print myarray.max(0) # max of each column\n",
    "print myarray.max(1) # max of each row\n",
    "print myarray.cumsum(1) # cumulative sum per row"
   ]
  },
  {
   "cell_type": "code",
   "execution_count": 151,
   "metadata": {},
   "outputs": [
    {
     "name": "stdout",
     "output_type": "stream",
     "text": [
      "(3, 3) (3, 2) (2, 2)\n"
     ]
    }
   ],
   "source": [
    "# More Operations (Transpose, Inverse, Eigenvalues, Eigenvectors)\n",
    "\n",
    "M = np.array([[1,2,3], [6,8,4], [6,7,5]])\n",
    "N = np.array([[4,6], [7,2], [5,1]])\n",
    "P = np.array([[2,5], [5,5]])\n",
    "print M.shape, N.shape, P.shape"
   ]
  },
  {
   "cell_type": "code",
   "execution_count": 165,
   "metadata": {},
   "outputs": [
    {
     "name": "stdout",
     "output_type": "stream",
     "text": [
      "(3, 2) (2, 3) (2, 2)\n"
     ]
    }
   ],
   "source": [
    "A = M.dot(N)+N\n",
    "B = N.transpose().dot(M)\n",
    "C = np.linalg.inv(P)\n",
    "#print C.dot(P)\n",
    "#print P.dot(C)\n",
    "C += P\n",
    "print A.shape, B.shape, C.shape\n",
    "#A*C doesn't work due to dimensions"
   ]
  },
  {
   "cell_type": "code",
   "execution_count": 171,
   "metadata": {},
   "outputs": [
    {
     "name": "stdout",
     "output_type": "stream",
     "text": [
      "[ 14.3  -1.3   1. ]\n",
      "[[-0.3 -0.8  0.5]\n",
      " [-0.7  0.4 -0.7]\n",
      " [-0.7  0.4  0.5]]\n",
      "[-1.7  8.7]\n",
      "[[-0.8 -0.6]\n",
      " [ 0.6 -0.8]]\n"
     ]
    }
   ],
   "source": [
    "wM,vM = np.linalg.eig(M)\n",
    "print wM\n",
    "print vM\n",
    "wP,vP = np.linalg.eig(P)\n",
    "print wP\n",
    "print vP\n",
    "# Eigenvalue Decomp. of N not possible because last 2 dimensions must be square\n",
    "#wN,vN = np.linalg.eig(N)\n",
    "#print wN\n",
    "#print vN\n"
   ]
  },
  {
   "cell_type": "code",
   "execution_count": null,
   "metadata": {
    "collapsed": true
   },
   "outputs": [],
   "source": [
    "# PUNKTSPIEGELUNG:\n",
    "original = np.asarray([[1, 2],\n",
    "            [3, 4]])\n",
    "new = original[::-1,::-1]"
   ]
  }
 ],
 "metadata": {
  "kernelspec": {
   "display_name": "Python 2",
   "language": "python",
   "name": "python2"
  },
  "language_info": {
   "codemirror_mode": {
    "name": "ipython",
    "version": 2
   },
   "file_extension": ".py",
   "mimetype": "text/x-python",
   "name": "python",
   "nbconvert_exporter": "python",
   "pygments_lexer": "ipython2",
   "version": "2.7.12"
  }
 },
 "nbformat": 4,
 "nbformat_minor": 2
}
