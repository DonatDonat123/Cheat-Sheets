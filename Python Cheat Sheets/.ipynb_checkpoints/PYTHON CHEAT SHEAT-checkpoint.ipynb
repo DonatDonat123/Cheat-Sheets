{
 "cells": [
  {
   "cell_type": "markdown",
   "metadata": {},
   "source": [
    "# DICT"
   ]
  },
  {
   "cell_type": "code",
   "execution_count": 4,
   "metadata": {},
   "outputs": [
    {
     "data": {
      "text/plain": [
       "1"
      ]
     },
     "execution_count": 4,
     "metadata": {},
     "output_type": "execute_result"
    }
   ],
   "source": [
    "a = dict(one=1, two=2, three=3)\n",
    "b = {'one': 1, 'two': 2, 'three': 3}\n",
    "c = dict(zip(['one', 'two', 'three'], [1, 2, 3]))\n",
    "d = dict([('two', 2), ('one', 1), ('three', 3)])\n",
    "e = dict({'three': 3, 'one': 1, 'two': 2})\n",
    "a == b == c == d == e\n",
    "\n",
    "a."
   ]
  },
  {
   "cell_type": "markdown",
   "metadata": {},
   "source": [
    "# PANDA"
   ]
  },
  {
   "cell_type": "code",
   "execution_count": 60,
   "metadata": {},
   "outputs": [
    {
     "name": "stdout",
     "output_type": "stream",
     "text": [
      "   A  B  C\n",
      "0  1  2  3\n",
      "1  4  5  6\n",
      "2  7  8  9\n",
      "1\n",
      "1\n",
      "1\n",
      "1\n",
      "1\n",
      "(1, 2)\n",
      "(4, 5)\n",
      "(7, 8)\n",
      "   A  B  C  D\n",
      "0  1  2  3  5\n",
      "1  4  5  6  6\n",
      "2  7  8  9  7\n"
     ]
    }
   ],
   "source": [
    "import pandas as pd # data processing, CSV file I/O (e.g. pd.read_csv)\n",
    "import numpy as np\n",
    "from sklearn.metrics.pairwise import cosine_similarity\n",
    "from sklearn.metrics import roc_auc_score\n",
    "\n",
    "\n",
    "df = pd.DataFrame(data=np.array([[1, 2, 3], [4, 5, 6], [7, 8, 9]]), columns=['A', 'B', 'C'])\n",
    "print(df)\n",
    "\n",
    "# Using `iloc[]`\n",
    "print(df.iloc[0][0])\n",
    "\n",
    "# Using `loc[]`\n",
    "print(df.loc[0]['A'])\n",
    "\n",
    "# Using `at[]`\n",
    "print(df.at[0,'A'])\n",
    "\n",
    "# Using `iat[]`\n",
    "print(df.iat[0,0])\n",
    "\n",
    "# Using `get_value(index, column)`\n",
    "print(df.get_value(0, 'A'))\n",
    "\n",
    "#Using Slicing\n",
    "\n",
    "df.loc[:,['A', 'B']]\n",
    "\n",
    "df.loc[0:df.shape[0],['A']]\n",
    "\n",
    "# Iterrate over df\n",
    "\n",
    "df = pd.DataFrame(data=np.array([[1, 2, 3], [4, 5, 6], [7, 8, 9]]), columns=['A', 'B', 'C'])\n",
    "\n",
    "for hickup, row in df.iterrows() :\n",
    "    print(row['A'], row['B'])\n",
    "    \n",
    "# Adding a Column to df\n",
    "\n",
    "df.loc[:, 'D'] = pd.Series(['5', '6', '7'], index=df.index)\n",
    "\n",
    "# Print out `df` again to see the changes\n",
    "print(df)\n",
    "\n",
    "### Example how to create pd Data Frame from already existing python arrays or even funciton outputs and setting the index\n",
    "df_sub = pd.DataFrame({\n",
    "        'test_id': test_idxs,\n",
    "        'is_duplicate': bst.predict(dTest, ntree_limit=bst.best_ntree_limit)\n",
    "    }).set_index('test_id')"
   ]
  },
  {
   "cell_type": "code",
   "execution_count": 78,
   "metadata": {},
   "outputs": [
    {
     "name": "stdout",
     "output_type": "stream",
     "text": [
      "  question1 question2\n",
      "0     Hallo    Tschau\n",
      "1      Maus      Katz\n",
      "2      Herr      Dame\n",
      "<class 'pandas.core.frame.DataFrame'>\n",
      "  question1 question2\n",
      "0     hallo     hallo\n",
      "1      maus      maus\n",
      "2      herr      herr\n",
      "  question1  question2\n",
      "0     hallo        NaN\n"
     ]
    }
   ],
   "source": [
    "# Modify dataframe and glue it together again\n",
    "\n",
    "df = pd.DataFrame(data=np.array([[\"Hallo\", \"Tschau\"], [\"Maus\", \"Katz\"], [\"Herr\", \"Dame\"]]), columns=['question1', 'question2'])\n",
    "print df\n",
    "print type(df)\n",
    "question1 = df.question1.apply(lambda x: x.lower())\n",
    "question2 = df.question2.apply(lambda x: x.lower())\n",
    "df.loc[:, 'question1'] = pd.Series(question1, index=df.index)\n",
    "df.loc[:, 'question2'] = pd.Series(question1, index=df.index)\n",
    "print df\n"
   ]
  },
  {
   "cell_type": "markdown",
   "metadata": {},
   "source": [
    "# COSINUS SIMILARITY"
   ]
  },
  {
   "cell_type": "code",
   "execution_count": null,
   "metadata": {
    "collapsed": true
   },
   "outputs": [],
   "source": [
    "from sklearn.metrics.pairwise import cosine_similarity\n",
    "\n",
    "a = [0,1,2]\n",
    "b = [0,3,4]\n",
    "c = cosine_similarity(a,b)\n",
    "print(c)\n",
    "print(c.ravel())"
   ]
  },
  {
   "cell_type": "markdown",
   "metadata": {
    "collapsed": true
   },
   "source": [
    "# ANONYMOUS LAMBDA FUNCTION"
   ]
  },
  {
   "cell_type": "code",
   "execution_count": 1,
   "metadata": {},
   "outputs": [
    {
     "name": "stdout",
     "output_type": "stream",
     "text": [
      "10\n"
     ]
    }
   ],
   "source": [
    "double = lambda x: x * 2\n",
    "\n",
    "# Output: 10\n",
    "print(double(5))"
   ]
  },
  {
   "cell_type": "markdown",
   "metadata": {},
   "source": [
    "# FILTER"
   ]
  },
  {
   "cell_type": "code",
   "execution_count": 80,
   "metadata": {},
   "outputs": [
    {
     "data": {
      "text/plain": [
       "(1, 3, 4, 5)"
      ]
     },
     "execution_count": 80,
     "metadata": {},
     "output_type": "execute_result"
    }
   ],
   "source": [
    "mylist = (1,2,3,4,5)\n",
    "\n",
    "filter(lambda a: a != 2, mylist)"
   ]
  },
  {
   "cell_type": "markdown",
   "metadata": {},
   "source": [
    "# REGEX"
   ]
  },
  {
   "cell_type": "code",
   "execution_count": 1,
   "metadata": {},
   "outputs": [
    {
     "name": "stdout",
     "output_type": "stream",
     "text": [
      "{the text}\n"
     ]
    },
    {
     "data": {
      "text/plain": [
       "'Hi this KLAMMER == just an example'"
      ]
     },
     "execution_count": 1,
     "metadata": {},
     "output_type": "execute_result"
    }
   ],
   "source": [
    "import re\n",
    "# https://docs.python.org/2/howto/regex.html\n",
    "\n",
    "# Create Regular Expressions\n",
    "bsp = \"Hi this {the text} == just an example\"\n",
    "re_text = re.compile(r'text') # finds 'text'\n",
    "re_cutter = re.compile(r'[^=]*==') #finds everything that starts with not = and ends with ==\n",
    "re_klammer = re.compile(r'\\{[^\\}]*\\}') # finds everything between {...}\n",
    "\n",
    "for finding in re_klammer.finditer(bsp): # print every appearance of the regex\n",
    "    print finding.group(0) \n",
    "    \n",
    "re.sub(re_klammer,\"KLAMMER\", bsp) # replace regex by 2nd argument\n",
    "#[.] = Match any character\n",
    "#a? = Match 0 or 1 time\n",
    "#a* = Match 0 or more times\n",
    "#a+ = Match 1 or more times\n"
   ]
  },
  {
   "cell_type": "markdown",
   "metadata": {},
   "source": [
    "# SLICING AND ARRAY STUFF"
   ]
  },
  {
   "cell_type": "code",
   "execution_count": 2,
   "metadata": {},
   "outputs": [
    {
     "name": "stdout",
     "output_type": "stream",
     "text": [
      "[False False  True  True False  True]\n"
     ]
    }
   ],
   "source": [
    "import numpy as np\n",
    "#Slicing by Condition\n",
    "a = np.asarray([1,2,3,3,5,3])\n",
    "b = (a==3)\n",
    "print b"
   ]
  },
  {
   "cell_type": "code",
   "execution_count": 3,
   "metadata": {},
   "outputs": [
    {
     "name": "stdout",
     "output_type": "stream",
     "text": [
      "[1 2 3 4 5 8]\n"
     ]
    }
   ],
   "source": [
    "#Get unique values of Array\n",
    "x = [1,1,1,2,3,4,5,5,5,8]\n",
    "print np.unique(x)"
   ]
  },
  {
   "cell_type": "markdown",
   "metadata": {},
   "source": [
    "# YIELD"
   ]
  },
  {
   "cell_type": "code",
   "execution_count": 11,
   "metadata": {},
   "outputs": [
    {
     "name": "stdout",
     "output_type": "stream",
     "text": [
      "8\n",
      "6\n",
      "4\n",
      "10\n",
      "0\n",
      "8\n",
      "8\n",
      "8\n",
      "7\n",
      "4\n"
     ]
    },
    {
     "ename": "StopIteration",
     "evalue": "",
     "output_type": "error",
     "traceback": [
      "\u001b[0;31m---------------------------------------------------------------------------\u001b[0m",
      "\u001b[0;31mStopIteration\u001b[0m                             Traceback (most recent call last)",
      "\u001b[0;32m<ipython-input-11-b5d2aafff93d>\u001b[0m in \u001b[0;36m<module>\u001b[0;34m()\u001b[0m\n\u001b[1;32m     12\u001b[0m     \u001b[0;32mprint\u001b[0m \u001b[0mnr\u001b[0m\u001b[0;34m\u001b[0m\u001b[0m\n\u001b[1;32m     13\u001b[0m \u001b[0;34m\u001b[0m\u001b[0m\n\u001b[0;32m---> 14\u001b[0;31m \u001b[0;32mprint\u001b[0m \u001b[0mrandgen\u001b[0m\u001b[0;34m.\u001b[0m\u001b[0mnext\u001b[0m\u001b[0;34m(\u001b[0m\u001b[0;34m)\u001b[0m \u001b[0;31m# Don't work because generator only callable once\u001b[0m\u001b[0;34m\u001b[0m\u001b[0m\n\u001b[0m",
      "\u001b[0;31mStopIteration\u001b[0m: "
     ]
    }
   ],
   "source": [
    "# Let's create a generator that generates random numbers everytime you call it\n",
    "import random\n",
    "def myrangen():\n",
    "    for i in range(10):\n",
    "        yield random.randint(0,10)\n",
    "        \n",
    "randgen = myrangen()\n",
    "print randgen.next()\n",
    "print randgen.next()\n",
    "\n",
    "for nr in randgen:\n",
    "    print nr\n",
    "\n",
    "print randgen.next() # Don't work because generator only callable once"
   ]
  },
  {
   "cell_type": "code",
   "execution_count": null,
   "metadata": {
    "collapsed": true
   },
   "outputs": [],
   "source": []
  },
  {
   "cell_type": "code",
   "execution_count": null,
   "metadata": {
    "collapsed": true
   },
   "outputs": [],
   "source": []
  }
 ],
 "metadata": {
  "kernelspec": {
   "display_name": "Python 2",
   "language": "python",
   "name": "python2"
  },
  "language_info": {
   "codemirror_mode": {
    "name": "ipython",
    "version": 2
   },
   "file_extension": ".py",
   "mimetype": "text/x-python",
   "name": "python",
   "nbconvert_exporter": "python",
   "pygments_lexer": "ipython2",
   "version": "2.7.12"
  }
 },
 "nbformat": 4,
 "nbformat_minor": 2
}
