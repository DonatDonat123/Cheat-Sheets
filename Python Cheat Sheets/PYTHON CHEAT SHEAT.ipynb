{
 "cells": [
  {
   "cell_type": "markdown",
   "metadata": {},
   "source": [
    "# Json and Dictionaries"
   ]
  },
  {
   "cell_type": "code",
   "execution_count": null,
   "metadata": {},
   "outputs": [],
   "source": [
    "args = [\"--param1\", \"karl\", \"--config\", str(config)]\n",
    "parser = argparse.ArgumentParser()\n",
    "parser.add_argument(\n",
    "        '--param1',\n",
    "        required=True,\n",
    "        help=\"config data defined in config-file\",\n",
    "        type=str)\n",
    "\n",
    "parser.add_argument(\n",
    "        '--config',\n",
    "        type=json.loads)\n",
    "output = parser.parse_args(args).__dict__\n",
    "\n",
    "config = {\"a\": [1,2,3]}\n",
    "config_dumped = json.dumps(config)\n",
    "json.loads(config_dumped)"
   ]
  },
  {
   "cell_type": "markdown",
   "metadata": {},
   "source": [
    "# OS Finding Files etc"
   ]
  },
  {
   "cell_type": "code",
   "execution_count": null,
   "metadata": {},
   "outputs": [],
   "source": [
    "import os\n",
    "file = 'test'\n",
    "foldername = 'folder'\n",
    "filenames = os.listdir(foldername)\n",
    "os.path.isfile(file)"
   ]
  },
  {
   "cell_type": "markdown",
   "metadata": {},
   "source": [
    "# DICT"
   ]
  },
  {
   "cell_type": "code",
   "execution_count": 3,
   "metadata": {},
   "outputs": [
    {
     "data": {
      "text/plain": [
       "True"
      ]
     },
     "execution_count": 3,
     "metadata": {},
     "output_type": "execute_result"
    }
   ],
   "source": [
    "a = dict(one=1, two=2, three=3)\n",
    "b = {'one': 1, 'two': 2, 'three': 3}\n",
    "c = dict(zip(['one', 'two', 'three'], [1, 2, 3]))\n",
    "d = dict([('two', 2), ('one', 1), ('three', 3)])\n",
    "e = dict({'three': 3, 'one': 1, 'two': 2})\n",
    "a == b == c == d == e"
   ]
  },
  {
   "cell_type": "markdown",
   "metadata": {},
   "source": [
    "# DICT and Json"
   ]
  },
  {
   "cell_type": "code",
   "execution_count": 5,
   "metadata": {},
   "outputs": [
    {
     "data": {
      "text/plain": [
       "100"
      ]
     },
     "execution_count": 5,
     "metadata": {},
     "output_type": "execute_result"
    }
   ],
   "source": [
    "mydict = {'title':'Manny the Many', 'Countries': ['Spain', 'UK'], 'Sold':{'Spain':100, 'UK':0}}\n",
    "mydict['Sold']['Spain']"
   ]
  },
  {
   "cell_type": "markdown",
   "metadata": {},
   "source": [
    "# List Comprehension"
   ]
  },
  {
   "cell_type": "code",
   "execution_count": 12,
   "metadata": {},
   "outputs": [
    {
     "name": "stdout",
     "output_type": "stream",
     "text": [
      "[(1, 7), (1, 8), (2, 7), (2, 8), (3, 7), (3, 8)]\n",
      "[[(1, 7), (2, 7), (3, 7)], [(1, 8), (2, 8), (3, 8)]]\n"
     ]
    }
   ],
   "source": [
    "a = [1, 2, 3]\n",
    "b = [7,8]\n",
    "c = [(i1,i2) for i1 in a for i2 in b]\n",
    "d = [[(i1,i2) for i1 in a] for i2 in b]\n",
    "print c\n",
    "print d"
   ]
  },
  {
   "cell_type": "markdown",
   "metadata": {},
   "source": [
    "# Find key by Value\n"
   ]
  },
  {
   "cell_type": "code",
   "execution_count": 9,
   "metadata": {},
   "outputs": [
    {
     "data": {
      "text/plain": [
       "'one'"
      ]
     },
     "execution_count": 9,
     "metadata": {},
     "output_type": "execute_result"
    }
   ],
   "source": [
    "val = 1\n",
    "lKey = [key for key, value in a.iteritems() if value == val][0]\n",
    "lKey"
   ]
  },
  {
   "cell_type": "markdown",
   "metadata": {},
   "source": [
    "# Sort your Dict"
   ]
  },
  {
   "cell_type": "code",
   "execution_count": null,
   "metadata": {
    "collapsed": true
   },
   "outputs": [],
   "source": [
    "vocab = mycv.vocabulary_\n",
    "vocab_sorted = []\n",
    "for key, value in sorted(vocab.iteritems(), key=lambda (k,v): (k,v)):\n",
    "    vocab_sorted.append([key, value])\n",
    "    \n",
    "## add to dict\n",
    "mydict['key'] = value"
   ]
  },
  {
   "cell_type": "markdown",
   "metadata": {},
   "source": [
    "# COSINUS SIMILARITY"
   ]
  },
  {
   "cell_type": "code",
   "execution_count": null,
   "metadata": {
    "collapsed": true
   },
   "outputs": [],
   "source": [
    "from sklearn.metrics.pairwise import cosine_similarity\n",
    "\n",
    "a = [0,1,2]\n",
    "b = [0,3,4]\n",
    "c = cosine_similarity(a,b)\n",
    "print(c)\n",
    "print(c.ravel())"
   ]
  },
  {
   "cell_type": "markdown",
   "metadata": {
    "collapsed": true
   },
   "source": [
    "# ANONYMOUS LAMBDA FUNCTION"
   ]
  },
  {
   "cell_type": "code",
   "execution_count": 1,
   "metadata": {},
   "outputs": [
    {
     "name": "stdout",
     "output_type": "stream",
     "text": [
      "10\n"
     ]
    }
   ],
   "source": [
    "double = lambda x: x * 2\n",
    "\n",
    "# Output: 10\n",
    "print(double(5))"
   ]
  },
  {
   "cell_type": "markdown",
   "metadata": {},
   "source": [
    "# FILTER"
   ]
  },
  {
   "cell_type": "code",
   "execution_count": 80,
   "metadata": {},
   "outputs": [
    {
     "data": {
      "text/plain": [
       "(1, 3, 4, 5)"
      ]
     },
     "execution_count": 80,
     "metadata": {},
     "output_type": "execute_result"
    }
   ],
   "source": [
    "mylist = (1,2,3,4,5)\n",
    "\n",
    "filter(lambda a: a != 2, mylist)"
   ]
  },
  {
   "cell_type": "markdown",
   "metadata": {},
   "source": [
    "# REGEX"
   ]
  },
  {
   "cell_type": "code",
   "execution_count": 1,
   "metadata": {},
   "outputs": [
    {
     "name": "stdout",
     "output_type": "stream",
     "text": [
      "{the text}\n"
     ]
    },
    {
     "data": {
      "text/plain": [
       "'Hi this KLAMMER == just an example'"
      ]
     },
     "execution_count": 1,
     "metadata": {},
     "output_type": "execute_result"
    }
   ],
   "source": [
    "import re\n",
    "# https://docs.python.org/2/howto/regex.html\n",
    "\n",
    "# Create Regular Expressions\n",
    "bsp = \"Hi this {the text} == just an example\"\n",
    "re_text = re.compile(r'text') # finds 'text'\n",
    "re_cutter = re.compile(r'[^=]*==') #finds everything that starts with not = and ends with ==\n",
    "re_klammer = re.compile(r'\\{[^\\}]*\\}') # finds everything between {...}\n",
    "\n",
    "for finding in re_klammer.finditer(bsp): # print every appearance of the regex\n",
    "    print finding.group(0) \n",
    "    \n",
    "re.sub(re_klammer,\"KLAMMER\", bsp) # replace regex by 2nd argument\n",
    "#[.] = Match any character\n",
    "#a? = Match 0 or 1 time\n",
    "#a* = Match 0 or more times\n",
    "#a+ = Match 1 or more times\n",
    "#a{3} = Match exactly 3 times\n"
   ]
  },
  {
   "cell_type": "code",
   "execution_count": 1,
   "metadata": {},
   "outputs": [
    {
     "ename": "NameError",
     "evalue": "name 're' is not defined",
     "output_type": "error",
     "traceback": [
      "\u001b[0;31m---------------------------------------------------------------------------\u001b[0m",
      "\u001b[0;31mNameError\u001b[0m                                 Traceback (most recent call last)",
      "\u001b[0;32m<ipython-input-1-c2b683eabb63>\u001b[0m in \u001b[0;36m<module>\u001b[0;34m()\u001b[0m\n\u001b[1;32m      1\u001b[0m \u001b[0;31m# String List to list\u001b[0m\u001b[0;34m\u001b[0m\u001b[0;34m\u001b[0m\u001b[0m\n\u001b[1;32m      2\u001b[0m \u001b[0ma\u001b[0m \u001b[0;34m=\u001b[0m \u001b[0;34m'[1,2,3]'\u001b[0m\u001b[0;34m\u001b[0m\u001b[0m\n\u001b[0;32m----> 3\u001b[0;31m \u001b[0mb\u001b[0m \u001b[0;34m=\u001b[0m \u001b[0mmax\u001b[0m\u001b[0;34m(\u001b[0m\u001b[0;34m[\u001b[0m\u001b[0mx\u001b[0m\u001b[0;34m.\u001b[0m\u001b[0mstrip\u001b[0m\u001b[0;34m(\u001b[0m\u001b[0;34m)\u001b[0m \u001b[0;32mfor\u001b[0m \u001b[0mx\u001b[0m \u001b[0;32min\u001b[0m \u001b[0mre\u001b[0m\u001b[0;34m.\u001b[0m\u001b[0mfindall\u001b[0m\u001b[0;34m(\u001b[0m\u001b[0;34m'[0-9]{1}'\u001b[0m\u001b[0;34m,\u001b[0m \u001b[0ma\u001b[0m\u001b[0;34m)\u001b[0m\u001b[0;34m]\u001b[0m\u001b[0;34m)\u001b[0m\u001b[0;34m\u001b[0m\u001b[0m\n\u001b[0m",
      "\u001b[0;31mNameError\u001b[0m: name 're' is not defined"
     ]
    }
   ],
   "source": [
    "# String List to list\n",
    "a = '[1,2,3]'\n",
    "b = max([x.strip() for x in re.findall('[0-9]{1}', a)])"
   ]
  },
  {
   "cell_type": "markdown",
   "metadata": {},
   "source": [
    "# SLICING AND ARRAY STUFF"
   ]
  },
  {
   "cell_type": "code",
   "execution_count": 2,
   "metadata": {},
   "outputs": [
    {
     "name": "stdout",
     "output_type": "stream",
     "text": [
      "[False False  True  True False  True]\n"
     ]
    }
   ],
   "source": [
    "import numpy as np\n",
    "#Slicing by Condition\n",
    "a = np.asarray([1,2,3,3,5,3])\n",
    "b = (a==3)\n",
    "print b"
   ]
  },
  {
   "cell_type": "code",
   "execution_count": 3,
   "metadata": {},
   "outputs": [
    {
     "name": "stdout",
     "output_type": "stream",
     "text": [
      "[1 2 3 4 5 8]\n"
     ]
    }
   ],
   "source": [
    "#Get unique values of Array\n",
    "x = [1,1,1,2,3,4,5,5,5,8]\n",
    "print np.unique(x)"
   ]
  },
  {
   "cell_type": "markdown",
   "metadata": {},
   "source": [
    "# YIELD"
   ]
  },
  {
   "cell_type": "code",
   "execution_count": 11,
   "metadata": {},
   "outputs": [
    {
     "name": "stdout",
     "output_type": "stream",
     "text": [
      "8\n",
      "6\n",
      "4\n",
      "10\n",
      "0\n",
      "8\n",
      "8\n",
      "8\n",
      "7\n",
      "4\n"
     ]
    },
    {
     "ename": "StopIteration",
     "evalue": "",
     "output_type": "error",
     "traceback": [
      "\u001b[0;31m---------------------------------------------------------------------------\u001b[0m",
      "\u001b[0;31mStopIteration\u001b[0m                             Traceback (most recent call last)",
      "\u001b[0;32m<ipython-input-11-b5d2aafff93d>\u001b[0m in \u001b[0;36m<module>\u001b[0;34m()\u001b[0m\n\u001b[1;32m     12\u001b[0m     \u001b[0;32mprint\u001b[0m \u001b[0mnr\u001b[0m\u001b[0;34m\u001b[0m\u001b[0m\n\u001b[1;32m     13\u001b[0m \u001b[0;34m\u001b[0m\u001b[0m\n\u001b[0;32m---> 14\u001b[0;31m \u001b[0;32mprint\u001b[0m \u001b[0mrandgen\u001b[0m\u001b[0;34m.\u001b[0m\u001b[0mnext\u001b[0m\u001b[0;34m(\u001b[0m\u001b[0;34m)\u001b[0m \u001b[0;31m# Don't work because generator only callable once\u001b[0m\u001b[0;34m\u001b[0m\u001b[0m\n\u001b[0m",
      "\u001b[0;31mStopIteration\u001b[0m: "
     ]
    }
   ],
   "source": [
    "# Let's create a generator that generates random numbers everytime you call it\n",
    "import random\n",
    "def myrangen():\n",
    "    for i in range(10):\n",
    "        yield random.randint(0,10)\n",
    "        \n",
    "randgen = myrangen()\n",
    "print randgen.next()\n",
    "print randgen.next()\n",
    "\n",
    "for nr in randgen:\n",
    "    print nr\n",
    "\n",
    "print randgen.next() # Don't work because generator only callable once"
   ]
  },
  {
   "cell_type": "markdown",
   "metadata": {
    "collapsed": true
   },
   "source": [
    " # RAND"
   ]
  },
  {
   "cell_type": "code",
   "execution_count": 24,
   "metadata": {},
   "outputs": [
    {
     "data": {
      "text/plain": [
       "0.7426623608149214"
      ]
     },
     "execution_count": 24,
     "metadata": {},
     "output_type": "execute_result"
    }
   ],
   "source": [
    "import numpy as np\n",
    "\n",
    "a = np.random.randn()\n",
    "b = np.random.random()\n",
    "b"
   ]
  },
  {
   "cell_type": "markdown",
   "metadata": {},
   "source": [
    "# GAUSS"
   ]
  },
  {
   "cell_type": "code",
   "execution_count": 41,
   "metadata": {},
   "outputs": [
    {
     "name": "stdout",
     "output_type": "stream",
     "text": [
      "Help on multivariate_normal_gen in module scipy.stats._multivariate object:\n",
      "\n",
      "class multivariate_normal_gen(multi_rv_generic)\n",
      " |  A multivariate normal random variable.\n",
      " |  \n",
      " |  The `mean` keyword specifies the mean. The `cov` keyword specifies the\n",
      " |  covariance matrix.\n",
      " |  \n",
      " |  Methods\n",
      " |  -------\n",
      " |  ``pdf(x, mean=None, cov=1, allow_singular=False)``\n",
      " |      Probability density function.\n",
      " |  ``logpdf(x, mean=None, cov=1, allow_singular=False)``\n",
      " |      Log of the probability density function.\n",
      " |  ``rvs(mean=None, cov=1, size=1, random_state=None)``\n",
      " |      Draw random samples from a multivariate normal distribution.\n",
      " |  ``entropy()``\n",
      " |      Compute the differential entropy of the multivariate normal.\n",
      " |  \n",
      " |  Parameters\n",
      " |  ----------\n",
      " |  x : array_like\n",
      " |      Quantiles, with the last axis of `x` denoting the components.\n",
      " |  %(_mvn_doc_default_callparams)s\n",
      " |  %(_doc_random_state)s\n",
      " |  \n",
      " |  Alternatively, the object may be called (as a function) to fix the mean\n",
      " |  and covariance parameters, returning a \"frozen\" multivariate normal\n",
      " |  random variable:\n",
      " |  \n",
      " |  rv = multivariate_normal(mean=None, cov=1, allow_singular=False)\n",
      " |      - Frozen object with the same methods but holding the given\n",
      " |        mean and covariance fixed.\n",
      " |  \n",
      " |  Notes\n",
      " |  -----\n",
      " |  %(_mvn_doc_callparams_note)s\n",
      " |  \n",
      " |  The covariance matrix `cov` must be a (symmetric) positive\n",
      " |  semi-definite matrix. The determinant and inverse of `cov` are computed\n",
      " |  as the pseudo-determinant and pseudo-inverse, respectively, so\n",
      " |  that `cov` does not need to have full rank.\n",
      " |  \n",
      " |  The probability density function for `multivariate_normal` is\n",
      " |  \n",
      " |  .. math::\n",
      " |  \n",
      " |      f(x) = \\frac{1}{\\sqrt{(2 \\pi)^k \\det \\Sigma}}\n",
      " |             \\exp\\left( -\\frac{1}{2} (x - \\mu)^T \\Sigma^{-1} (x - \\mu) \\right),\n",
      " |  \n",
      " |  where :math:`\\mu` is the mean, :math:`\\Sigma` the covariance matrix,\n",
      " |  and :math:`k` is the dimension of the space where :math:`x` takes values.\n",
      " |  \n",
      " |  .. versionadded:: 0.14.0\n",
      " |  \n",
      " |  Examples\n",
      " |  --------\n",
      " |  >>> import matplotlib.pyplot as plt\n",
      " |  >>> from scipy.stats import multivariate_normal\n",
      " |  \n",
      " |  >>> x = np.linspace(0, 5, 10, endpoint=False)\n",
      " |  >>> y = multivariate_normal.pdf(x, mean=2.5, cov=0.5); y\n",
      " |  array([ 0.00108914,  0.01033349,  0.05946514,  0.20755375,  0.43939129,\n",
      " |          0.56418958,  0.43939129,  0.20755375,  0.05946514,  0.01033349])\n",
      " |  >>> fig1 = plt.figure()\n",
      " |  >>> ax = fig1.add_subplot(111)\n",
      " |  >>> ax.plot(x, y)\n",
      " |  \n",
      " |  The input quantiles can be any shape of array, as long as the last\n",
      " |  axis labels the components.  This allows us for instance to\n",
      " |  display the frozen pdf for a non-isotropic random variable in 2D as\n",
      " |  follows:\n",
      " |  \n",
      " |  >>> x, y = np.mgrid[-1:1:.01, -1:1:.01]\n",
      " |  >>> pos = np.dstack((x, y))\n",
      " |  >>> rv = multivariate_normal([0.5, -0.2], [[2.0, 0.3], [0.3, 0.5]])\n",
      " |  >>> fig2 = plt.figure()\n",
      " |  >>> ax2 = fig2.add_subplot(111)\n",
      " |  >>> ax2.contourf(x, y, rv.pdf(pos))\n",
      " |  \n",
      " |  Method resolution order:\n",
      " |      multivariate_normal_gen\n",
      " |      multi_rv_generic\n",
      " |      __builtin__.object\n",
      " |  \n",
      " |  Methods defined here:\n",
      " |  \n",
      " |  __call__(self, mean=None, cov=1, allow_singular=False, seed=None)\n",
      " |      Create a frozen multivariate normal distribution.\n",
      " |      \n",
      " |      See `multivariate_normal_frozen` for more information.\n",
      " |  \n",
      " |  __init__(self, seed=None)\n",
      " |  \n",
      " |  entropy(self, mean=None, cov=1)\n",
      " |      Compute the differential entropy of the multivariate normal.\n",
      " |      \n",
      " |      Parameters\n",
      " |      ----------\n",
      " |      %(_mvn_doc_default_callparams)s\n",
      " |      \n",
      " |      Returns\n",
      " |      -------\n",
      " |      h : scalar\n",
      " |          Entropy of the multivariate normal distribution\n",
      " |      \n",
      " |      Notes\n",
      " |      -----\n",
      " |      %(_mvn_doc_callparams_note)s\n",
      " |  \n",
      " |  logpdf(self, x, mean=None, cov=1, allow_singular=False)\n",
      " |      Log of the multivariate normal probability density function.\n",
      " |      \n",
      " |      Parameters\n",
      " |      ----------\n",
      " |      x : array_like\n",
      " |          Quantiles, with the last axis of `x` denoting the components.\n",
      " |      mean : array_like, optional\n",
      " |          Mean of the distribution (default zero)\n",
      " |      cov : array_like, optional\n",
      " |          Covariance matrix of the distribution (default one)\n",
      " |      allow_singular : bool, optional\n",
      " |          Whether to allow a singular covariance matrix.  (Default: False)\n",
      " |      \n",
      " |      Returns\n",
      " |      -------\n",
      " |      pdf : ndarray\n",
      " |          Log of the probability density function evaluated at `x`\n",
      " |      \n",
      " |      Notes\n",
      " |      -----\n",
      " |      Setting the parameter `mean` to `None` is equivalent to having `mean`\n",
      " |          be the zero-vector. The parameter `cov` can be a scalar, in which case\n",
      " |          the covariance matrix is the identity times that value, a vector of\n",
      " |          diagonal entries for the covariance matrix, or a two-dimensional\n",
      " |          array_like.\n",
      " |  \n",
      " |  pdf(self, x, mean=None, cov=1, allow_singular=False)\n",
      " |      Multivariate normal probability density function.\n",
      " |      \n",
      " |      Parameters\n",
      " |      ----------\n",
      " |      x : array_like\n",
      " |          Quantiles, with the last axis of `x` denoting the components.\n",
      " |      mean : array_like, optional\n",
      " |          Mean of the distribution (default zero)\n",
      " |      cov : array_like, optional\n",
      " |          Covariance matrix of the distribution (default one)\n",
      " |      allow_singular : bool, optional\n",
      " |          Whether to allow a singular covariance matrix.  (Default: False)\n",
      " |      \n",
      " |      Returns\n",
      " |      -------\n",
      " |      pdf : ndarray\n",
      " |          Probability density function evaluated at `x`\n",
      " |      \n",
      " |      Notes\n",
      " |      -----\n",
      " |      Setting the parameter `mean` to `None` is equivalent to having `mean`\n",
      " |          be the zero-vector. The parameter `cov` can be a scalar, in which case\n",
      " |          the covariance matrix is the identity times that value, a vector of\n",
      " |          diagonal entries for the covariance matrix, or a two-dimensional\n",
      " |          array_like.\n",
      " |  \n",
      " |  rvs(self, mean=None, cov=1, size=1, random_state=None)\n",
      " |      Draw random samples from a multivariate normal distribution.\n",
      " |      \n",
      " |      Parameters\n",
      " |      ----------\n",
      " |      mean : array_like, optional\n",
      " |          Mean of the distribution (default zero)\n",
      " |      cov : array_like, optional\n",
      " |          Covariance matrix of the distribution (default one)\n",
      " |      allow_singular : bool, optional\n",
      " |          Whether to allow a singular covariance matrix.  (Default: False)\n",
      " |      size : integer, optional\n",
      " |          Number of samples to draw (default 1).\n",
      " |      random_state : None or int or np.random.RandomState instance, optional\n",
      " |          If int or RandomState, use it for drawing the random variates.\n",
      " |          If None (or np.random), the global np.random state is used.\n",
      " |          Default is None.\n",
      " |      \n",
      " |      Returns\n",
      " |      -------\n",
      " |      rvs : ndarray or scalar\n",
      " |          Random variates of size (`size`, `N`), where `N` is the\n",
      " |          dimension of the random variable.\n",
      " |      \n",
      " |      Notes\n",
      " |      -----\n",
      " |      Setting the parameter `mean` to `None` is equivalent to having `mean`\n",
      " |          be the zero-vector. The parameter `cov` can be a scalar, in which case\n",
      " |          the covariance matrix is the identity times that value, a vector of\n",
      " |          diagonal entries for the covariance matrix, or a two-dimensional\n",
      " |          array_like.\n",
      " |  \n",
      " |  ----------------------------------------------------------------------\n",
      " |  Data descriptors inherited from multi_rv_generic:\n",
      " |  \n",
      " |  __dict__\n",
      " |      dictionary for instance variables (if defined)\n",
      " |  \n",
      " |  __weakref__\n",
      " |      list of weak references to the object (if defined)\n",
      " |  \n",
      " |  random_state\n",
      " |      Get or set the RandomState object for generating random variates.\n",
      " |      \n",
      " |      This can be either None or an existing RandomState object.\n",
      " |      \n",
      " |      If None (or np.random), use the RandomState singleton used by np.random.\n",
      " |      If already a RandomState instance, use it.\n",
      " |      If an int, use a new RandomState instance seeded with seed.\n",
      "\n"
     ]
    }
   ],
   "source": [
    "# Random Multivariate Sampling \n",
    "# Random Sampling Function used from\n",
    "# https://docs.scipy.org/doc/scipy/reference/generated/scipy.stats.multivariate_normal.html#scipy.stats.multivariate_normal\n",
    "from scipy.stats import multivariate_normal\n",
    "\n",
    "mu = np.asarray([1,2])\n",
    "cov = np.asmatrix([[2,0], [0,2]])\n",
    "#Now do the trick for Guassian sampling\n",
    "rstate = 42 # random state to produce always the same 'random' sampling\n",
    "mv1 = multivariate_normal(mu, cov) # Initialize Multivariate Gaussian 1\n",
    "\n",
    "X = np.asarray([[1,5, 3.8], [1.0, 4.2]]) # measurements\n",
    "p_X = np.asarray(mv1.pdf(np.asarray([0,2])))\n",
    "\n",
    "p_X\n",
    "\n",
    "help(multivariate_normal)"
   ]
  },
  {
   "cell_type": "markdown",
   "metadata": {},
   "source": [
    "# PICKLE"
   ]
  },
  {
   "cell_type": "code",
   "execution_count": 3,
   "metadata": {
    "collapsed": true
   },
   "outputs": [],
   "source": [
    "import numpy as np\n",
    "import gzip, pickle as cPickle\n",
    "\n",
    "import pickle\n",
    "\n",
    "def save_zipped_pickle(obj, filename, protocol=-1):\n",
    "\twith gzip.open(filename, 'wb') as f:\n",
    "\t\tcPickle.dump(obj, f, protocol)\n",
    "\t\tf.close()\n",
    "\n",
    "def load_zipped_pickle(filename):\t# loads and unpacks\n",
    "\twith gzip.open(filename, 'rb') as f:\n",
    "\t\tloaded_object = cPickle.load(f)\n",
    "\t\tf.close()\n",
    "\t\treturn loaded_object\n",
    "    \n",
    "a = np.asarray([1,2,3])\n",
    "save_zipped_pickle(a,'TEST')"
   ]
  },
  {
   "cell_type": "markdown",
   "metadata": {},
   "source": [
    "# ITERATE OVER N-Dim Arrays and Access"
   ]
  },
  {
   "cell_type": "code",
   "execution_count": 1,
   "metadata": {},
   "outputs": [
    {
     "ename": "NameError",
     "evalue": "name 'np' is not defined",
     "output_type": "error",
     "traceback": [
      "\u001b[0;31m---------------------------------------------------------------------------\u001b[0m",
      "\u001b[0;31mNameError\u001b[0m                                 Traceback (most recent call last)",
      "\u001b[0;32m<ipython-input-1-1eb8e53222b6>\u001b[0m in \u001b[0;36m<module>\u001b[0;34m()\u001b[0m\n\u001b[1;32m      2\u001b[0m \u001b[0mcols\u001b[0m \u001b[0;34m=\u001b[0m \u001b[0;36m5\u001b[0m\u001b[0;34m\u001b[0m\u001b[0m\n\u001b[1;32m      3\u001b[0m \u001b[0;34m\u001b[0m\u001b[0m\n\u001b[0;32m----> 4\u001b[0;31m \u001b[0mbase\u001b[0m \u001b[0;34m=\u001b[0m \u001b[0mnp\u001b[0m\u001b[0;34m.\u001b[0m\u001b[0mzeros\u001b[0m\u001b[0;34m(\u001b[0m\u001b[0;34m[\u001b[0m\u001b[0mrows\u001b[0m\u001b[0;34m,\u001b[0m \u001b[0mcols\u001b[0m\u001b[0;34m]\u001b[0m\u001b[0;34m)\u001b[0m\u001b[0;34m\u001b[0m\u001b[0m\n\u001b[0m\u001b[1;32m      5\u001b[0m \u001b[0;34m\u001b[0m\u001b[0m\n\u001b[1;32m      6\u001b[0m \u001b[0;32mfor\u001b[0m \u001b[0mx\u001b[0m \u001b[0;32min\u001b[0m \u001b[0mnp\u001b[0m\u001b[0;34m.\u001b[0m\u001b[0mnditer\u001b[0m\u001b[0;34m(\u001b[0m\u001b[0mbase\u001b[0m\u001b[0;34m,\u001b[0m\u001b[0mop_flags\u001b[0m\u001b[0;34m=\u001b[0m\u001b[0;34m[\u001b[0m\u001b[0;34m'readwrite'\u001b[0m\u001b[0;34m]\u001b[0m\u001b[0;34m)\u001b[0m\u001b[0;34m:\u001b[0m\u001b[0;34m\u001b[0m\u001b[0m\n",
      "\u001b[0;31mNameError\u001b[0m: name 'np' is not defined"
     ]
    }
   ],
   "source": [
    "rows = 4\n",
    "cols = 5\n",
    "\n",
    "base = np.zeros([rows, cols])\n",
    "\n",
    "for x in np.nditer(base,op_flags=['readwrite']):\n",
    "    x[...] = 1"
   ]
  }
 ],
 "metadata": {
  "kernelspec": {
   "display_name": "Python 2",
   "language": "python",
   "name": "python2"
  },
  "language_info": {
   "codemirror_mode": {
    "name": "ipython",
    "version": 3
   },
   "file_extension": ".py",
   "mimetype": "text/x-python",
   "name": "python",
   "nbconvert_exporter": "python",
   "pygments_lexer": "ipython3",
   "version": "3.5.5"
  }
 },
 "nbformat": 4,
 "nbformat_minor": 2
}
