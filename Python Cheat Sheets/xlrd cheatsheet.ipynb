{
 "cells": [
  {
   "cell_type": "code",
   "execution_count": null,
   "metadata": {
    "collapsed": true
   },
   "outputs": [],
   "source": [
    "# From Udacity course about Mongo DB\n",
    "import xlrd\n",
    "\n",
    "datafile = \"2013_ERCOT_Hourly_Load_Data.xls\"\n",
    "\n",
    "\n",
    "def parse_file(datafile):\n",
    "    workbook = xlrd.open_workbook(datafile)\n",
    "    sheet = workbook.sheet_by_index(0)\n",
    "\n",
    "    data = [[sheet.cell_value(r, col) \n",
    "                for col in range(sheet.ncols)] \n",
    "                    for r in range(sheet.nrows)]\n",
    "\n",
    "    print \"\\nList Comprehension\"\n",
    "    print \"data[3][2]:\",\n",
    "    print data[3][2]\n",
    "\n",
    "    print \"\\nCells in a nested loop:\"    \n",
    "    for row in range(sheet.nrows):\n",
    "        for col in range(sheet.ncols):\n",
    "            if row == 50:\n",
    "                print sheet.cell_value(row, col),\n",
    "\n",
    "\n",
    "    ### other useful methods:\n",
    "    print \"\\nROWS, COLUMNS, and CELLS:\"\n",
    "    print \"Number of rows in the sheet:\", \n",
    "    print sheet.nrows\n",
    "    print \"Type of data in cell (row 3, col 2):\", \n",
    "    print sheet.cell_type(3, 2)\n",
    "    print \"Value in cell (row 3, col 2):\", \n",
    "    print sheet.cell_value(3, 2)\n",
    "    print \"Get a slice of values in column 3, from rows 1-3:\"\n",
    "    print sheet.col_values(3, start_rowx=1, end_rowx=4)\n",
    "\n",
    "    print \"\\nDATES:\"\n",
    "    print \"Type of data in cell (row 1, col 0):\", \n",
    "    print sheet.cell_type(1, 0)\n",
    "    exceltime = sheet.cell_value(1, 0)\n",
    "    print \"Time in Excel format:\",\n",
    "    print exceltime\n",
    "    print \"Convert time to a Python datetime tuple, from the Excel float:\",\n",
    "    print xlrd.xldate_as_tuple(exceltime, 0)\n",
    "\n",
    "    return data\n",
    "\n",
    "data = parse_file(datafile)"
   ]
  },
  {
   "cell_type": "code",
   "execution_count": null,
   "metadata": {
    "collapsed": true
   },
   "outputs": [],
   "source": [
    "import xlrd\n",
    "# See tutorial at http://www.simplistix.co.uk/presentations/europython2009excel.zip\n",
    "\n",
    "book = xlrd.open_workbook('./Data/nanonose.xls')\n",
    "\n",
    "print book.nsheets\n",
    "print book.sheet_names()\n",
    "for sheet_index in range(0,book.nsheets):\n",
    "    print book.sheet_by_index(sheet_index)\n",
    "for sheet_name in book.sheet_names():\n",
    "    print book.sheet_by_name(sheet_name)\n",
    "for sheet in book.sheets():\n",
    "    print sheet\n",
    "    \n",
    "mysheet = book.sheet_by_index(0)\n",
    "for col_index in range(mysheet.ncols):\n",
    "    print mysheet.col(col_index,0,1)\n",
    "print mysheet.name\n",
    "print mysheet.nrows\n",
    "print mysheet.ncols\n",
    "#Iterate over all cells by column and row_index\n",
    "for row_index in range(mysheet.nrows):\n",
    "    for col_index in range(mysheet.ncols):\n",
    "        print xlrd.cellname(row_index,col_index),'-',\n",
    "        print mysheet.cell(row_index,col_index).value\n",
    "        \n",
    "        \n",
    "#Then Iterate by Slicing (row/col_index, start, (stop))\n",
    "print mysheet.row_slice(0,5)\n",
    "#print mysheet.row_values(0,1)\n",
    "#print mysheet.row_values(0,1,2)\n",
    "#print mysheet.col_slice(0,5)\n",
    "#print mysheet.col_values(0,1)\n",
    "#print mysheet.col_values(0,1,2)\n"
   ]
  }
 ],
 "metadata": {
  "kernelspec": {
   "display_name": "Python 2",
   "language": "python",
   "name": "python2"
  },
  "language_info": {
   "codemirror_mode": {
    "name": "ipython",
    "version": 2
   },
   "file_extension": ".py",
   "mimetype": "text/x-python",
   "name": "python",
   "nbconvert_exporter": "python",
   "pygments_lexer": "ipython2",
   "version": "2.7.12"
  }
 },
 "nbformat": 4,
 "nbformat_minor": 2
}
