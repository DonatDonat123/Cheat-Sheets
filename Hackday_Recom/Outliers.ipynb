{
 "cells": [
  {
   "cell_type": "markdown",
   "metadata": {},
   "source": [
    "# Distribution\n",
    "- Plot different dimensions\n",
    "- PCA\n",
    "- lastModifiedDateTime to something we can use"
   ]
  },
  {
   "cell_type": "code",
   "execution_count": 31,
   "metadata": {},
   "outputs": [
    {
     "name": "stdout",
     "output_type": "stream",
     "text": [
      "The autoreload extension is already loaded. To reload it, use:\n",
      "  %reload_ext autoreload\n"
     ]
    }
   ],
   "source": [
    "%load_ext autoreload\n",
    "%autoreload 1\n",
    "# All modules that are imported via %aimport are automatically updated if the sourcefile is changed.\n",
    "import pandas as pd\n",
    "import numpy as np\n",
    "import matplotlib.pyplot as plt\n",
    "import json\n",
    "import csv\n",
    "import random\n",
    "import os\n",
    "import itertools\n",
    "%aimport Toolbox.tools\n",
    "from Toolbox.tools import getKeysfromNames, writeNames, load_data, resample, plot_confusion_matrix\n",
    "from sklearn.preprocessing import LabelEncoder\n",
    "from sklearn.ensemble import RandomForestClassifier\n",
    "# For the OSF:\n",
    "%aimport Toolbox.OSF\n",
    "from Toolbox.OSF import OSF\n",
    "from sklearn.metrics import classification_report, confusion_matrix, precision_score, recall_score"
   ]
  },
  {
   "cell_type": "code",
   "execution_count": 2,
   "metadata": {},
   "outputs": [],
   "source": [
    "folderpath = '../data/test10/'\n",
    "filename = 'order_fraud_ml_norm000000000000'"
   ]
  },
  {
   "cell_type": "code",
   "execution_count": 3,
   "metadata": {},
   "outputs": [
    {
     "name": "stdout",
     "output_type": "stream",
     "text": [
      "Load all files from folder and concatenate\n",
      "Found 21 files\n",
      "Data Splitted in Train and Test\n"
     ]
    }
   ],
   "source": [
    "train_X, test_X, train_Y, test_Y = load_data(folderpath, split=0.05)"
   ]
  },
  {
   "cell_type": "code",
   "execution_count": 4,
   "metadata": {},
   "outputs": [],
   "source": [
    "#train_X.isnull().sum()\n",
    "#np.unique(train_X.isnull().sum())\n",
    "train_X.fillna(0, inplace=True)\n",
    "test_X.fillna(0, inplace=True)"
   ]
  },
  {
   "cell_type": "code",
   "execution_count": 5,
   "metadata": {},
   "outputs": [
    {
     "name": "stdout",
     "output_type": "stream",
     "text": [
      "TRAIN DATA \n",
      "0    566637\n",
      "1      5730\n",
      "Name: 0, dtype: int64\n",
      "minor class:1.0%\n",
      "TEST DATA \n",
      "0    29848\n",
      "1      277\n",
      "Name: 0, dtype: int64\n",
      "minor class:0.92%\n"
     ]
    }
   ],
   "source": [
    "#Show the data split\n",
    "trainsplit= (train_Y.value_counts())\n",
    "testsplit= (test_Y.value_counts())\n",
    "train_minor = trainsplit[1]/(trainsplit[1]+trainsplit[0])\n",
    "test_minor = testsplit[1]/(testsplit[1]+testsplit[0])\n",
    "\n",
    "print(\"TRAIN DATA \\n{}\\nminor class:{}%\".format(trainsplit,round(100*train_minor,2)))\n",
    "print(\"TEST DATA \\n{}\\nminor class:{}%\".format(testsplit,round(100*test_minor,2)))"
   ]
  },
  {
   "cell_type": "code",
   "execution_count": 6,
   "metadata": {},
   "outputs": [
    {
     "name": "stdout",
     "output_type": "stream",
     "text": [
      "Class 0: 11324 samples\n",
      "Class 1: 5866 samples\n"
     ]
    }
   ],
   "source": [
    "# Bias sampling\n",
    "train_X_sample, train_Y_sample = resample(train_X, train_Y, bias = 2)"
   ]
  },
  {
   "cell_type": "markdown",
   "metadata": {},
   "source": [
    "# OSFs"
   ]
  },
  {
   "cell_type": "code",
   "execution_count": null,
   "metadata": {},
   "outputs": [],
   "source": [
    "# Create smaller test set for now\n",
    "#testy = test.iloc[:30000,:]\n",
    "#testy.to_csv(folderpath+'test_'+filename+'.csv', header=None)"
   ]
  },
  {
   "cell_type": "code",
   "execution_count": 7,
   "metadata": {},
   "outputs": [],
   "source": [
    "osfs = ['knn']\n",
    "distances = [2] # Corresponding to l1 (Manhattan), l2(Euclidean), l3 etc. distance.\n",
    "neighbors = [2,3] # Number of neighbors to take into account\n",
    "weights = 'uniform' # random or uniform\n",
    "perturbations = 1 # Makes only sense if weights = random for boosting different dimensions\n",
    "osf = OSF(osfs, neighbors, weights, perturbations, distances)"
   ]
  },
  {
   "cell_type": "code",
   "execution_count": null,
   "metadata": {},
   "outputs": [],
   "source": [
    "# Test Computational Complexitydown vote\n",
    "import time\n",
    "\n",
    "for i in [1000, 5000, 10000, 20000, 30000, 50000]:\n",
    "    osf = OSF(osfs, neighbors, weights, perturbations, distances)\n",
    "    start = time.time()\n",
    "    osf.fit_transform(test_X[:i])\n",
    "    end = time.time()\n",
    "    print(\"i = {} time: {}\".format(i, (end-start)))"
   ]
  },
  {
   "cell_type": "code",
   "execution_count": 8,
   "metadata": {},
   "outputs": [
    {
     "name": "stdout",
     "output_type": "stream",
     "text": [
      "added 1 out of 2 osf-features\n",
      "added 2 out of 2 osf-features\n",
      "Transformed from shape (17190, 174) into shape (17190, 2) in OSF-space\n",
      "added 1 out of 2 osf-features\n",
      "added 2 out of 2 osf-features\n",
      "Transformed from shape (30125, 174) into shape (30125, 2) in OSF-space\n"
     ]
    },
    {
     "data": {
      "text/plain": [
       "(30125, 2)"
      ]
     },
     "execution_count": 8,
     "metadata": {},
     "output_type": "execute_result"
    }
   ],
   "source": [
    "train_X_trans = osf.fit_transform(train_X_sample)\n",
    "train_X_trans.shape\n",
    "test_X_trans = osf.fit_transform(test_X)\n",
    "test_X_trans.shape"
   ]
  },
  {
   "cell_type": "code",
   "execution_count": 9,
   "metadata": {},
   "outputs": [],
   "source": [
    "train_X_new = np.concatenate([train_X_sample, train_X_trans], axis=1)\n",
    "test_X_new = np.concatenate([test_X, test_X_trans], axis=1)"
   ]
  },
  {
   "cell_type": "code",
   "execution_count": 10,
   "metadata": {},
   "outputs": [],
   "source": [
    "# Feature Scaling ( bring everything on value between 0 and 1)\n",
    "train_X_trans= (train_X_trans-np.min(train_X_trans,0)) \\\n",
    "            / (np.max(train_X_trans,0)- np.min(train_X_trans,0))\n",
    "\n",
    "test_X_trans= (test_X_trans-np.min(test_X_trans,0)) \\\n",
    "            / (np.max(test_X_trans,0)- np.min(test_X_trans,0))"
   ]
  },
  {
   "cell_type": "code",
   "execution_count": null,
   "metadata": {},
   "outputs": [],
   "source": [
    "# Add target as first column and for _new also original features\n",
    "train_trans = np.concatenate([train_Y_sample.reshape([len(train_Y_sample),1]), train_X_trans], axis=1)\n",
    "train_new = np.concatenate([train_Y_sample.reshape([len(train_Y_sample),1]), train_X_sample, train_X_trans], axis=1)\n",
    "\n",
    "test_trans = np.concatenate([test_Y.reshape([len(test_Y),1]), test_X_trans], axis=1)\n",
    "test_new = np.concatenate([test_Y.reshape([len(test_Y),1]), test_X, test_X_trans], axis=1)\n",
    "\n",
    "# Now convert to dataframe (workaround so first column can be int)\n",
    "df_trans = pd.DataFrame(train_trans)\n",
    "df_trans[0] = df_trans[0].astype(int)\n",
    "\n",
    "df_test_trans = pd.DataFrame(test_trans)\n",
    "df_test_trans[0] = df_test_trans[0].astype(int)\n",
    "\n",
    "df_new = pd.DataFrame(train_new)\n",
    "df_new[0] = df_new[0].astype(int)\n",
    "\n",
    "df_test_new = pd.DataFrame(test_new)\n",
    "df_test_new[0] = df_test_new[0].astype(int)"
   ]
  },
  {
   "cell_type": "code",
   "execution_count": null,
   "metadata": {},
   "outputs": [],
   "source": [
    "# Save as .csv file\n",
    "df_trans.to_csv(folderpath+'trans_'+filename+'.csv', index=False, header=None)\n",
    "df_test_trans.to_csv(folderpath+'test_trans_'+filename+'.csv', index=False, header=None)\n",
    "\n",
    "df_new.to_csv(folderpath+'new_'+filename+'.csv', index=False, header=None)\n",
    "df_test_new.to_csv(folderpath+'test_new_'+filename+'.csv', index=False, header=None)"
   ]
  },
  {
   "cell_type": "code",
   "execution_count": null,
   "metadata": {},
   "outputs": [],
   "source": [
    "# create a fake .names file, so the pipeline works\n",
    "writeNames(df_trans.shape,folderpath+'trans_'+filename+'.names')\n",
    "writeNames(df_new.shape,folderpath+'new_'+filename+'.names')"
   ]
  },
  {
   "cell_type": "markdown",
   "metadata": {},
   "source": [
    "# Some Quick Performance Testing"
   ]
  },
  {
   "cell_type": "code",
   "execution_count": 39,
   "metadata": {},
   "outputs": [
    {
     "name": "stdout",
     "output_type": "stream",
     "text": [
      "Confusion matrix, without normalization\n",
      "             precision    recall  f1-score   support\n",
      "\n",
      "          0       1.00      0.95      0.97     29848\n",
      "          1       0.11      0.72      0.19       277\n",
      "\n",
      "avg / total       0.99      0.94      0.96     30125\n",
      "\n"
     ]
    },
    {
     "data": {
      "image/png": "[encoded data removed]",
      "text/plain": [
       "<Figure size 432x288 with 2 Axes>"
      ]
     },
     "metadata": {},
     "output_type": "display_data"
    }
   ],
   "source": [
    "rf = RandomForestClassifier(n_estimators=10, criterion='gini', max_depth=None, min_samples_split=2)\n",
    "rf.fit(train_X_sample, train_Y_sample)\n",
    "Y_pred = rf.predict(test_X)\n",
    "cnf = confusion_matrix(test_Y, Y_pred)\n",
    "plot_confusion_matrix(cnf, classes=['Frank', 'Fraud'])\n",
    "print(classification_report(test_Y, Y_pred))"
   ]
  },
  {
   "cell_type": "code",
   "execution_count": 35,
   "metadata": {},
   "outputs": [
    {
     "name": "stdout",
     "output_type": "stream",
     "text": [
      "Confusion matrix, without normalization\n",
      "             precision    recall  f1-score   support\n",
      "\n",
      "          0       0.99      0.27      0.42     29848\n",
      "          1       0.01      0.82      0.02       277\n",
      "\n",
      "avg / total       0.98      0.27      0.41     30125\n",
      "\n"
     ]
    },
    {
     "data": {
      "image/png": "[encoded data removed]",
      "text/plain": [
       "<Figure size 432x288 with 2 Axes>"
      ]
     },
     "metadata": {},
     "output_type": "display_data"
    }
   ],
   "source": [
    "rf = RandomForestClassifier(n_estimators=10, criterion='gini', max_depth=None, min_samples_split=2)\n",
    "rf.fit(train_X_trans, train_Y_sample)\n",
    "Y_pred = rf.predict(test_X_trans)\n",
    "cnf = confusion_matrix(test_Y, Y_pred)\n",
    "plot_confusion_matrix(cnf, classes=['Frank', 'Fraud'])\n",
    "print(classification_report(test_Y, Y_pred))"
   ]
  },
  {
   "cell_type": "code",
   "execution_count": 38,
   "metadata": {},
   "outputs": [
    {
     "name": "stdout",
     "output_type": "stream",
     "text": [
      "Confusion matrix, without normalization\n",
      "             precision    recall  f1-score   support\n",
      "\n",
      "          0       1.00      0.94      0.97     29848\n",
      "          1       0.11      0.73      0.19       277\n",
      "\n",
      "avg / total       0.99      0.94      0.96     30125\n",
      "\n"
     ]
    },
    {
     "data": {
      "image/png": "[encoded data removed]",
      "text/plain": [
       "<Figure size 432x288 with 2 Axes>"
      ]
     },
     "metadata": {},
     "output_type": "display_data"
    }
   ],
   "source": [
    "rf = RandomForestClassifier(n_estimators=10, criterion='gini', max_depth=None, min_samples_split=2)\n",
    "rf.fit(train_X_new, train_Y_sample)\n",
    "Y_pred = rf.predict(test_X_new)\n",
    "cnf = confusion_matrix(test_Y, Y_pred)\n",
    "plot_confusion_matrix(cnf, classes=['Frank', 'Fraud'])\n",
    "print(classification_report(test_Y, Y_pred))"
   ]
  }
 ],
 "metadata": {
  "kernelspec": {
   "display_name": "Python 3",
   "language": "python",
   "name": "python3"
  },
  "language_info": {
   "codemirror_mode": {
    "name": "ipython",
    "version": 3
   },
   "file_extension": ".py",
   "mimetype": "text/x-python",
   "name": "python",
   "nbconvert_exporter": "python",
   "pygments_lexer": "ipython3",
   "version": "3.5.5"
  }
 },
 "nbformat": 4,
 "nbformat_minor": 2
}
