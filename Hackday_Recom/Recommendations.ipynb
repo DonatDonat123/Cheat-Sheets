{
 "cells": [
  {
   "cell_type": "code",
   "execution_count": 1,
   "metadata": {},
   "outputs": [],
   "source": [
    "import pandas as pd\n",
    "import numpy as np\n",
    "import matplotlib.pyplot as plt"
   ]
  },
  {
   "cell_type": "markdown",
   "metadata": {},
   "source": [
    "# Load Stuff"
   ]
  },
  {
   "cell_type": "code",
   "execution_count": 2,
   "metadata": {},
   "outputs": [],
   "source": [
    "folderpath = './data/'\n",
    "filename_test = 'testing'\n",
    "filename_train = 'training'\n",
    "filename_black = 'banned_skus'\n",
    "filename_submission = 'submission'"
   ]
  },
  {
   "cell_type": "code",
   "execution_count": 3,
   "metadata": {},
   "outputs": [],
   "source": [
    "df_test = pd.read_csv(folderpath + filename_test + '.csv')"
   ]
  },
  {
   "cell_type": "code",
   "execution_count": 4,
   "metadata": {},
   "outputs": [],
   "source": [
    "df_train = pd.read_csv(folderpath + filename_train + '.csv')"
   ]
  },
  {
   "cell_type": "code",
   "execution_count": 5,
   "metadata": {},
   "outputs": [],
   "source": [
    "blacklist = pd.read_csv(folderpath + filename_black + '.csv')"
   ]
  },
  {
   "cell_type": "code",
   "execution_count": null,
   "metadata": {},
   "outputs": [],
   "source": [
    "submission1 = pd.read_csv(folderpath + filename_submission + '.csv', header=None)"
   ]
  },
  {
   "cell_type": "code",
   "execution_count": 10,
   "metadata": {},
   "outputs": [],
   "source": [
    "# Subsample of only 1M\n",
    "df_train_mini = df_train.iloc[:1000000,:]\n",
    "df_test_mini = df_test.iloc[:10000,:]"
   ]
  },
  {
   "cell_type": "code",
   "execution_count": 7,
   "metadata": {},
   "outputs": [
    {
     "name": "stdout",
     "output_type": "stream",
     "text": [
      "[1 2 3 4 5 6 7]\n",
      "(86703589, 8)\n",
      "(1000000, 8)\n",
      "(4468025, 8)\n"
     ]
    }
   ],
   "source": [
    "# How many segments & Shapes\n",
    "print (np.unique(df_train.segment))\n",
    "print (df_train.shape)\n",
    "print (df_train_mini.shape)\n",
    "print (df_test.shape)"
   ]
  },
  {
   "cell_type": "markdown",
   "metadata": {},
   "source": [
    "# Magic1: Most Popular Skus"
   ]
  },
  {
   "cell_type": "code",
   "execution_count": null,
   "metadata": {},
   "outputs": [],
   "source": [
    "#segment is just a placeholder because my pandas skill are ugly\n",
    "pop_skus = df_train_mini.loc[:,['sku', 'segment']].groupby('sku').count()"
   ]
  },
  {
   "cell_type": "code",
   "execution_count": null,
   "metadata": {},
   "outputs": [],
   "source": [
    "# delete forbidden items:\n",
    "print (len(pop_skus))\n",
    "pop_skus = pop_skus[~pop_skus.index.isin(blacklist.sku)]\n",
    "print (len(pop_skus))"
   ]
  },
  {
   "cell_type": "code",
   "execution_count": null,
   "metadata": {},
   "outputs": [],
   "source": [
    "# Get popular skus\n",
    "selected_skus = pop_skus.sort_values(by=['segment']) \n",
    "selected_skus = selected_skus.iloc[:-21:-1]\n",
    "selected_skus = selected_skus.index.tolist()"
   ]
  },
  {
   "cell_type": "code",
   "execution_count": null,
   "metadata": {},
   "outputs": [],
   "source": [
    "# Make Submission File:\n",
    "customer_ids = np.unique(df_test.customer_no)\n",
    "with open(folderpath+'magic1.csv', 'w') as file:\n",
    "    file.write('customer_no, sku\\n')\n",
    "    for customer in customer_ids:\n",
    "        for item in selected_skus:\n",
    "            file.write('{},{}\\n'.format(customer, item))\n",
    "    file.close()\n",
    "print ('Successfully wrote submission file')"
   ]
  },
  {
   "cell_type": "markdown",
   "metadata": {},
   "source": [
    "# Magic 2: Most Popular Skus per Segment"
   ]
  },
  {
   "cell_type": "code",
   "execution_count": 8,
   "metadata": {},
   "outputs": [
    {
     "name": "stdout",
     "output_type": "stream",
     "text": [
      "(7, 20)\n"
     ]
    }
   ],
   "source": [
    "segments = [1,2,3,4,5,6,7]\n",
    "SEGMENT_SKUS = []\n",
    "for seg in segments:\n",
    "    df_seg = df_train_mini.loc[df_train_mini.segment==seg,:]\n",
    "    pop_skus = df_seg.loc[:,['sku', 'segment']].groupby('sku').count()\n",
    "    # delete forbidden items:\n",
    "    #print (len(pop_skus))\n",
    "    pop_skus = pop_skus[~pop_skus.index.isin(blacklist.sku)]\n",
    "    #print (len(pop_skus))\n",
    "    # Get 20 most popular skus\n",
    "    selected_skus = pop_skus.sort_values(by=['segment']) \n",
    "    selected_skus = selected_skus.iloc[:-21:-1]\n",
    "    selected_skus = selected_skus.index.tolist()\n",
    "    SEGMENT_SKUS.append(selected_skus)\n",
    "print(np.shape(SEGMENT_SKUS))"
   ]
  },
  {
   "cell_type": "markdown",
   "metadata": {},
   "source": [
    "# Play around with creating new data-frames\n",
    "\n",
    "I hope this would speed up the filtering process of forbidden and duplicate items in the test-set"
   ]
  },
  {
   "cell_type": "code",
   "execution_count": 14,
   "metadata": {},
   "outputs": [
    {
     "name": "stdout",
     "output_type": "stream",
     "text": [
      "segment 1 finished\n",
      "segment 2 finished\n",
      "segment 3 finished\n",
      "segment 4 finished\n",
      "segment 5 finished\n",
      "segment 6 finished\n",
      "segment 7 finished\n"
     ]
    }
   ],
   "source": [
    "# Make Submission File Pandas and filter later...\n",
    "# Convert data-frame to numpy array so I can filter forbidden testpairs easier\n",
    "# Make Submission Pandas File\n",
    "df_submission = pd.DataFrame(columns=['customer_no','sku'])\n",
    "for seg in segments:\n",
    "    customer_ids = np.unique(df_test[df_test.segment==seg].customer_no)\n",
    "    for customer in customer_ids:\n",
    "        for item in SEGMENT_SKUS[seg-1]:\n",
    "            df_submission = df_submission.append({'customer_no':customer, 'sku':item}, ignore_index=True)\n",
    "    print ('segment {} finished'.format(seg))"
   ]
  },
  {
   "cell_type": "code",
   "execution_count": 15,
   "metadata": {},
   "outputs": [
    {
     "name": "stdout",
     "output_type": "stream",
     "text": [
      "7360\n",
      "7337\n"
     ]
    }
   ],
   "source": [
    "testarray = df_test[['customer_no', 'sku']]\n",
    "print (len(df_submission))\n",
    "df_submission = df_submission[~df_submission.isin(testarray)].dropna()\n",
    "print (len(df_submission))"
   ]
  },
  {
   "cell_type": "code",
   "execution_count": 17,
   "metadata": {},
   "outputs": [],
   "source": [
    "df_submission.to_csv(folderpath + 'magic2_legal.csv', index=False)"
   ]
  },
  {
   "cell_type": "code",
   "execution_count": null,
   "metadata": {},
   "outputs": [],
   "source": [
    "#df1[~df1.isin(df2)].dropna()"
   ]
  },
  {
   "cell_type": "markdown",
   "metadata": {},
   "source": [
    "# The Old Filtering way with comparing tuples"
   ]
  },
  {
   "cell_type": "code",
   "execution_count": null,
   "metadata": {},
   "outputs": [],
   "source": [
    "# Make Submission File Filtered\n",
    "# Convert data-frame to numpy array so I can filter forbidden testpairs easier\n",
    "testarray = np.asarray(df_test[['customer_no', 'sku']])\n",
    "with open(folderpath+'magic2_legal.csv', 'w') as file:\n",
    "    file.write('customer_no, sku\\n')\n",
    "    for seg in segments:\n",
    "        customer_ids = np.unique(df_test[df_test.segment==seg].customer_no)\n",
    "        for customer in customer_ids:\n",
    "            for item in SEGMENT_SKUS[seg-1]:\n",
    "                if [customer, item] not in testarray:\n",
    "                    file.write('{},{}\\n'.format(customer, item))\n",
    "        print ('segment {} finished'.format(seg))\n",
    "    file.close()\n",
    "print ('Successfully wrote submission file')"
   ]
  }
 ],
 "metadata": {
  "kernelspec": {
   "display_name": "Python 3",
   "language": "python",
   "name": "python3"
  },
  "language_info": {
   "codemirror_mode": {
    "name": "ipython",
    "version": 3
   },
   "file_extension": ".py",
   "mimetype": "text/x-python",
   "name": "python",
   "nbconvert_exporter": "python",
   "pygments_lexer": "ipython3",
   "version": "3.5.5"
  }
 },
 "nbformat": 4,
 "nbformat_minor": 2
}
